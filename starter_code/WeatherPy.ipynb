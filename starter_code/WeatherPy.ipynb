{
 "cells": [
  {
   "cell_type": "markdown",
   "metadata": {},
   "source": [
    "# WeatherPy\n",
    "----\n",
    "\n",
    "#### Observations\n",
    "1) City Temperature vs Latitude for both Southern and Northern Hemisphere both show a high correlation. The Southern Hemisphere temperatures were closer in range than Northern Hemisphere.\n",
    "2) The correlation between Latitude vs Cloudiness/Wind Speed is low.\n",
    "3) The correlation between Latitude vs Wind Speed is low. In both Hemisphere's wind speed was relatively around the same speed but there was more dots on the scatter plot in the Northern Hemisphere. this could be due to more mountains in the Northern Hemisphere."
   ]
  },
  {
   "cell_type": "code",
   "execution_count": 1,
   "metadata": {
    "scrolled": true
   },
   "outputs": [],
   "source": [
    "# Dependencies and Setup\n",
    "import matplotlib.pyplot as plt\n",
    "import pandas as pd\n",
    "import numpy as np\n",
    "import requests\n",
    "import time\n",
    "from scipy.stats import linregress\n",
    "import scipy.stats as st\n",
    "from pprint import pprint\n",
    "\n",
    "# Import API key\n",
    "from api_keys import weather_api_key\n",
    "\n",
    "# Incorporated citipy to determine city based on latitude and longitude\n",
    "from citipy import citipy\n",
    "\n",
    "# Output File (CSV)\n",
    "output_data_file = \"../output_data/cities.csv\"\n",
    "\n",
    "# Range of latitudes and longitudes\n",
    "lat_range = (-90, 90)\n",
    "lng_range = (-180, 180)"
   ]
  },
  {
   "cell_type": "markdown",
   "metadata": {},
   "source": [
    "## Generate Cities List"
   ]
  },
  {
   "cell_type": "code",
   "execution_count": 2,
   "metadata": {},
   "outputs": [
    {
     "data": {
      "text/plain": [
       "633"
      ]
     },
     "execution_count": 2,
     "metadata": {},
     "output_type": "execute_result"
    }
   ],
   "source": [
    "# List for holding lat_lngs and cities\n",
    "lat_lngs = []\n",
    "cities = []\n",
    "\n",
    "# Create a set of random lat and lng combinations\n",
    "lats = np.random.uniform(lat_range[0], lat_range[1], size=1500)\n",
    "lngs = np.random.uniform(lng_range[0], lng_range[1], size=1500)\n",
    "lat_lngs = zip(lats, lngs)\n",
    "\n",
    "# Identify nearest city for each lat, lng combination\n",
    "for lat_lng in lat_lngs:\n",
    "    city = citipy.nearest_city(lat_lng[0], lat_lng[1]).city_name\n",
    "    \n",
    "    # If the city is unique, then add it to a our cities list\n",
    "    if city not in cities:\n",
    "        cities.append(city)\n",
    "\n",
    "# Print the city count to confirm sufficient count\n",
    "len(cities)"
   ]
  },
  {
   "cell_type": "markdown",
   "metadata": {},
   "source": [
    "### Perform API Calls\n",
    "* Perform a weather check on each city using a series of successive API calls.\n",
    "* Include a print log of each city as it'sbeing processed (with the city number and city name).\n"
   ]
  },
  {
   "cell_type": "code",
   "execution_count": 3,
   "metadata": {},
   "outputs": [],
   "source": [
    "# URL API Call\n",
    "url = \"http://api.openweathermap.org/data/2.5/weather?units=Imperial&APPID=\" + weather_api_key"
   ]
  },
  {
   "cell_type": "code",
   "execution_count": 4,
   "metadata": {},
   "outputs": [
    {
     "data": {
      "text/html": [
       "<div>\n",
       "<style scoped>\n",
       "    .dataframe tbody tr th:only-of-type {\n",
       "        vertical-align: middle;\n",
       "    }\n",
       "\n",
       "    .dataframe tbody tr th {\n",
       "        vertical-align: top;\n",
       "    }\n",
       "\n",
       "    .dataframe thead th {\n",
       "        text-align: right;\n",
       "    }\n",
       "</style>\n",
       "<table border=\"1\" class=\"dataframe\">\n",
       "  <thead>\n",
       "    <tr style=\"text-align: right;\">\n",
       "      <th></th>\n",
       "      <th>City_ID</th>\n",
       "      <th>City</th>\n",
       "      <th>Cloudiness</th>\n",
       "      <th>Country</th>\n",
       "      <th>Date</th>\n",
       "      <th>Humidity</th>\n",
       "      <th>Lat</th>\n",
       "      <th>Lng</th>\n",
       "      <th>Max Temp</th>\n",
       "      <th>Wind Speed</th>\n",
       "    </tr>\n",
       "  </thead>\n",
       "  <tbody>\n",
       "    <tr>\n",
       "      <th>0</th>\n",
       "      <td>0</td>\n",
       "      <td>ostrovnoy</td>\n",
       "      <td>2</td>\n",
       "      <td>RU</td>\n",
       "      <td>1558378754</td>\n",
       "      <td>72</td>\n",
       "      <td>68.05</td>\n",
       "      <td>39.51</td>\n",
       "      <td>37.50</td>\n",
       "      <td>7.16</td>\n",
       "    </tr>\n",
       "    <tr>\n",
       "      <th>1</th>\n",
       "      <td>1</td>\n",
       "      <td>mahebourg</td>\n",
       "      <td>75</td>\n",
       "      <td>MU</td>\n",
       "      <td>1558378503</td>\n",
       "      <td>74</td>\n",
       "      <td>-20.41</td>\n",
       "      <td>57.70</td>\n",
       "      <td>78.80</td>\n",
       "      <td>11.41</td>\n",
       "    </tr>\n",
       "    <tr>\n",
       "      <th>2</th>\n",
       "      <td>2</td>\n",
       "      <td>qaanaaq</td>\n",
       "      <td>25</td>\n",
       "      <td>GL</td>\n",
       "      <td>1558378755</td>\n",
       "      <td>73</td>\n",
       "      <td>77.48</td>\n",
       "      <td>-69.36</td>\n",
       "      <td>22.20</td>\n",
       "      <td>2.37</td>\n",
       "    </tr>\n",
       "    <tr>\n",
       "      <th>3</th>\n",
       "      <td>3</td>\n",
       "      <td>zhuhai</td>\n",
       "      <td>0</td>\n",
       "      <td>CN</td>\n",
       "      <td>1558378755</td>\n",
       "      <td>39</td>\n",
       "      <td>40.71</td>\n",
       "      <td>112.04</td>\n",
       "      <td>44.60</td>\n",
       "      <td>4.47</td>\n",
       "    </tr>\n",
       "    <tr>\n",
       "      <th>4</th>\n",
       "      <td>4</td>\n",
       "      <td>cape town</td>\n",
       "      <td>20</td>\n",
       "      <td>ZA</td>\n",
       "      <td>1558378755</td>\n",
       "      <td>76</td>\n",
       "      <td>-33.93</td>\n",
       "      <td>18.42</td>\n",
       "      <td>55.99</td>\n",
       "      <td>8.05</td>\n",
       "    </tr>\n",
       "  </tbody>\n",
       "</table>\n",
       "</div>"
      ],
      "text/plain": [
       "   City_ID       City  Cloudiness Country        Date  Humidity    Lat  \\\n",
       "0        0  ostrovnoy           2      RU  1558378754        72  68.05   \n",
       "1        1  mahebourg          75      MU  1558378503        74 -20.41   \n",
       "2        2    qaanaaq          25      GL  1558378755        73  77.48   \n",
       "3        3     zhuhai           0      CN  1558378755        39  40.71   \n",
       "4        4  cape town          20      ZA  1558378755        76 -33.93   \n",
       "\n",
       "      Lng  Max Temp  Wind Speed  \n",
       "0   39.51     37.50        7.16  \n",
       "1   57.70     78.80       11.41  \n",
       "2  -69.36     22.20        2.37  \n",
       "3  112.04     44.60        4.47  \n",
       "4   18.42     55.99        8.05  "
      ]
     },
     "execution_count": 4,
     "metadata": {},
     "output_type": "execute_result"
    }
   ],
   "source": [
    "weather_data_df = pd.read_csv(output_data_file, delimiter=\",\")\n",
    "weather_data_df.head()"
   ]
  },
  {
   "cell_type": "code",
   "execution_count": 5,
   "metadata": {},
   "outputs": [
    {
     "name": "stdout",
     "output_type": "stream",
     "text": [
      "Cities Name: khatanga, Cities ID: 2022572\n",
      "Cities Name: bambous virieux, Cities ID: 1106677\n",
      "No city name found\n",
      "Cities Name: rikitea, Cities ID: 4030556\n",
      "Cities Name: qaanaaq, Cities ID: 3831208\n",
      "Cities Name: carnarvon, Cities ID: 2074865\n",
      "Cities Name: lagoa, Cities ID: 3372964\n",
      "Cities Name: lebu, Cities ID: 3883457\n",
      "Cities Name: tadine, Cities ID: 2138285\n",
      "Cities Name: tasiilaq, Cities ID: 3424607\n",
      "Cities Name: waipawa, Cities ID: 2206874\n",
      "Cities Name: chokurdakh, Cities ID: 2126123\n",
      "Cities Name: hamilton, Cities ID: 4513583\n",
      "Cities Name: basoko, Cities ID: 219414\n",
      "Cities Name: thompson, Cities ID: 6165406\n",
      "Cities Name: port alfred, Cities ID: 964432\n",
      "No city name found\n",
      "Cities Name: sembe, Cities ID: 2255304\n",
      "Cities Name: fomboni, Cities ID: 921889\n",
      "Cities Name: kruisfontein, Cities ID: 986717\n",
      "Cities Name: mukhen, Cities ID: 2019718\n",
      "Cities Name: steffisburg, Cities ID: 2658494\n",
      "Cities Name: albany, Cities ID: 5106841\n",
      "Cities Name: mataura, Cities ID: 6201424\n",
      "No city name found\n",
      "Cities Name: mar del plata, Cities ID: 3430863\n",
      "Cities Name: puerto ayora, Cities ID: 3652764\n",
      "Cities Name: acapulco, Cities ID: 3533462\n",
      "Cities Name: busselton, Cities ID: 2075265\n",
      "Cities Name: georgetown, Cities ID: 1735106\n",
      "Cities Name: brae, Cities ID: 2654970\n",
      "Cities Name: zhigansk, Cities ID: 2012530\n",
      "Cities Name: avera, Cities ID: 4231997\n",
      "Cities Name: malanje, Cities ID: 2239862\n",
      "No city name found\n",
      "Cities Name: sadiqabad, Cities ID: 1166652\n",
      "Cities Name: punta arenas, Cities ID: 3874787\n",
      "Cities Name: shenjiamen, Cities ID: 1795632\n",
      "Cities Name: burns lake, Cities ID: 5911745\n",
      "Cities Name: lubumbashi, Cities ID: 922704\n",
      "Cities Name: bathsheba, Cities ID: 3374083\n",
      "Cities Name: kapaa, Cities ID: 5848280\n",
      "Cities Name: faanui, Cities ID: 4034551\n",
      "Cities Name: utrecht, Cities ID: 2745909\n",
      "No city name found\n",
      "Cities Name: victoria, Cities ID: 1819729\n",
      "Cities Name: bud, Cities ID: 4255151\n",
      "Cities Name: saint-philippe, Cities ID: 935215\n",
      "Cities Name: yellowknife, Cities ID: 6185377\n",
      "Cities Name: sri aman, Cities ID: 1735799\n",
      "Cities Name: cidreira, Cities ID: 3466165\n",
      "Cities Name: port keats, Cities ID: 2063039\n",
      "Cities Name: buloh kasap, Cities ID: 1734879\n",
      "Cities Name: vaini, Cities ID: 4032243\n",
      "Cities Name: ushuaia, Cities ID: 3833367\n",
      "Cities Name: ancud, Cities ID: 3899695\n",
      "Cities Name: jamestown, Cities ID: 5122534\n",
      "Cities Name: klyuchi, Cities ID: 1503153\n",
      "Cities Name: barrow, Cities ID: 5880054\n",
      "Cities Name: vardo, Cities ID: 777019\n",
      "Cities Name: yanam, Cities ID: 1252795\n",
      "Cities Name: bluff, Cities ID: 2206939\n",
      "Cities Name: mutsu, Cities ID: 2127878\n",
      "Cities Name: saint george, Cities ID: 5546220\n",
      "Cities Name: nikolskoye, Cities ID: 546105\n",
      "Cities Name: buraydah, Cities ID: 107304\n",
      "No city name found\n",
      "Cities Name: fortuna, Cities ID: 5563839\n",
      "No city name found\n",
      "Cities Name: kondagaon, Cities ID: 1266216\n",
      "Cities Name: naze, Cities ID: 1855540\n",
      "Cities Name: esperance, Cities ID: 2071860\n",
      "Cities Name: sfantu gheorghe, Cities ID: 667303\n",
      "Cities Name: omsukchan, Cities ID: 2122493\n",
      "Cities Name: bethel, Cities ID: 5282297\n",
      "Cities Name: kalabo, Cities ID: 915471\n",
      "Cities Name: cherskiy, Cities ID: 2126199\n",
      "No city name found\n",
      "No city name found\n",
      "Cities Name: neiafu, Cities ID: 4032420\n",
      "Cities Name: manyana, Cities ID: 933416\n",
      "Cities Name: takoradi, Cities ID: 2294915\n",
      "Cities Name: upernavik, Cities ID: 3418910\n",
      "Cities Name: bubaque, Cities ID: 2374583\n",
      "Cities Name: svetlogorsk, Cities ID: 10722858\n",
      "Cities Name: shar, Cities ID: 1519275\n",
      "Cities Name: saskylakh, Cities ID: 2017155\n",
      "Cities Name: hithadhoo, Cities ID: 1282256\n",
      "Cities Name: touros, Cities ID: 3386213\n",
      "Cities Name: cape town, Cities ID: 3369157\n",
      "Cities Name: anuradhapura, Cities ID: 1251081\n",
      "Cities Name: bredasdorp, Cities ID: 1015776\n",
      "No city name found\n",
      "Cities Name: jalu, Cities ID: 86049\n",
      "Cities Name: muros, Cities ID: 3115824\n",
      "No city name found\n",
      "Cities Name: ngunguru, Cities ID: 2186111\n",
      "Cities Name: narsaq, Cities ID: 3421719\n",
      "Cities Name: namibe, Cities ID: 3347019\n",
      "Cities Name: gorom-gorom, Cities ID: 2360372\n",
      "Cities Name: aguas formosas, Cities ID: 3472864\n",
      "Cities Name: zongozotla, Cities ID: 3514007\n",
      "Cities Name: cayenne, Cities ID: 3382160\n",
      "Cities Name: port lincoln, Cities ID: 2063036\n",
      "Cities Name: ribeira grande, Cities ID: 3372707\n",
      "Cities Name: hobart, Cities ID: 2163355\n",
      "Cities Name: padang, Cities ID: 1633419\n",
      "Cities Name: terrace, Cities ID: 6162949\n",
      "Cities Name: butaritari, Cities ID: 2110227\n",
      "Cities Name: hermanus, Cities ID: 3366880\n",
      "Cities Name: torrington, Cities ID: 4844309\n",
      "Cities Name: santa maria, Cities ID: 3450083\n",
      "Cities Name: tiksi, Cities ID: 2015306\n",
      "Cities Name: east london, Cities ID: 1006984\n",
      "Cities Name: kodiak, Cities ID: 5866583\n",
      "Cities Name: beyneu, Cities ID: 610298\n",
      "No city name found\n",
      "Cities Name: alekseyevsk, Cities ID: 2022083\n",
      "Cities Name: praia da vitoria, Cities ID: 3372760\n",
      "Cities Name: ende, Cities ID: 1644932\n",
      "Cities Name: gizo, Cities ID: 2108857\n",
      "Cities Name: bayeux, Cities ID: 3405940\n",
      "Cities Name: hilo, Cities ID: 5855927\n",
      "Cities Name: wuhan, Cities ID: 1791247\n",
      "Cities Name: ghanzi, Cities ID: 933759\n",
      "Cities Name: college, Cities ID: 5859699\n",
      "Cities Name: kashan, Cities ID: 128477\n",
      "Cities Name: lianran, Cities ID: 1803886\n",
      "No city name found\n",
      "Cities Name: armidale, Cities ID: 2177671\n",
      "Cities Name: new norfolk, Cities ID: 2155415\n",
      "Cities Name: roma, Cities ID: 5134295\n",
      "Cities Name: pangnirtung, Cities ID: 6096551\n",
      "Cities Name: ryotsu, Cities ID: 1853371\n",
      "Cities Name: novoseleznevo, Cities ID: 1492827\n",
      "Cities Name: caravelas, Cities ID: 3466980\n",
      "Cities Name: provideniya, Cities ID: 4031574\n",
      "Cities Name: luganville, Cities ID: 2136150\n",
      "Cities Name: haines junction, Cities ID: 5969025\n",
      "Cities Name: klaksvik, Cities ID: 2618795\n",
      "No city name found\n",
      "Cities Name: neijiang, Cities ID: 1799491\n",
      "Cities Name: ilulissat, Cities ID: 3423146\n",
      "Cities Name: atuona, Cities ID: 4020109\n",
      "Cities Name: norman wells, Cities ID: 6089245\n",
      "Cities Name: havoysund, Cities ID: 779622\n",
      "Cities Name: vanimo, Cities ID: 2084442\n",
      "No city name found\n",
      "Cities Name: cockburn town, Cities ID: 3576994\n",
      "Cities Name: donghai, Cities ID: 1812521\n",
      "Cities Name: mayumba, Cities ID: 2399001\n",
      "Cities Name: lichtenburg, Cities ID: 982899\n",
      "Cities Name: candido de abreu, Cities ID: 3467545\n",
      "Cities Name: souillac, Cities ID: 933995\n",
      "Cities Name: hovd, Cities ID: 1516048\n",
      "No city name found\n",
      "Cities Name: coahuayana, Cities ID: 4013679\n",
      "No city name found\n",
      "Cities Name: kaitangata, Cities ID: 2208248\n",
      "Cities Name: faya, Cities ID: 110690\n",
      "Cities Name: karratha, Cities ID: 6620339\n",
      "Cities Name: kudahuvadhoo, Cities ID: 1337607\n",
      "Cities Name: bitung, Cities ID: 1648636\n",
      "Cities Name: mercedes, Cities ID: 3430708\n",
      "Cities Name: leningradskiy, Cities ID: 2123814\n",
      "Cities Name: rawson, Cities ID: 3839307\n",
      "Cities Name: fairbanks, Cities ID: 5861897\n",
      "Cities Name: gazli, Cities ID: 1513990\n",
      "Cities Name: marovoay, Cities ID: 1059507\n",
      "Cities Name: marrakesh, Cities ID: 2542997\n",
      "Cities Name: dublin, Cities ID: 5344157\n",
      "Cities Name: kayerkan, Cities ID: 1497337\n",
      "Cities Name: oskaloosa, Cities ID: 4870239\n",
      "Cities Name: iqaluit, Cities ID: 5983720\n",
      "Cities Name: springdale, Cities ID: 4132093\n",
      "Cities Name: sur, Cities ID: 286245\n",
      "Cities Name: oranjemund, Cities ID: 3354071\n",
      "Cities Name: acarau, Cities ID: 3408368\n",
      "Cities Name: sambava, Cities ID: 1056899\n",
      "Cities Name: antalaha, Cities ID: 1071296\n",
      "No city name found\n",
      "Cities Name: osterhofen, Cities ID: 2856530\n",
      "Cities Name: sao joao da barra, Cities ID: 3448903\n",
      "Cities Name: labuhan, Cities ID: 8079926\n",
      "Cities Name: sterling, Cities ID: 4787534\n",
      "Cities Name: wattegama, Cities ID: 1224061\n",
      "Cities Name: tres pontas, Cities ID: 3446077\n",
      "Cities Name: puerto madryn, Cities ID: 3840092\n",
      "Cities Name: torbay, Cities ID: 6167817\n",
      "Cities Name: mana, Cities ID: 3381041\n",
      "Cities Name: half moon bay, Cities ID: 5354943\n",
      "No city name found\n",
      "Cities Name: cavalcante, Cities ID: 3466594\n",
      "No city name found\n",
      "No city name found\n",
      "Cities Name: denpasar, Cities ID: 1645528\n",
      "Cities Name: krivosheino, Cities ID: 1501795\n",
      "Cities Name: airai, Cities ID: 1651810\n",
      "No city name found\n",
      "Cities Name: anadyr, Cities ID: 2127202\n",
      "Cities Name: hami, Cities ID: 1529484\n",
      "Cities Name: mao, Cities ID: 2514301\n",
      "Cities Name: arraial do cabo, Cities ID: 3471451\n",
      "Cities Name: almaznyy, Cities ID: 582447\n",
      "No city name found\n",
      "Cities Name: port elizabeth, Cities ID: 964420\n",
      "Cities Name: cabo san lucas, Cities ID: 3985710\n",
      "Cities Name: salalah, Cities ID: 286621\n",
      "Cities Name: dicabisagan, Cities ID: 1715015\n",
      "Cities Name: churapcha, Cities ID: 2025241\n",
      "Cities Name: khandbari, Cities ID: 1283217\n",
      "Cities Name: miri, Cities ID: 1738050\n",
      "Cities Name: kalispell, Cities ID: 5660340\n",
      "Cities Name: fort nelson, Cities ID: 5955902\n",
      "Cities Name: merauke, Cities ID: 2082539\n",
      "No city name found\n",
      "Cities Name: beri, Cities ID: 1268686\n",
      "Cities Name: chuy, Cities ID: 3443061\n",
      "Cities Name: penticton, Cities ID: 6101141\n",
      "No city name found\n",
      "Cities Name: la ronge, Cities ID: 6050066\n",
      "Cities Name: glens falls, Cities ID: 5118693\n",
      "Cities Name: tuktoyaktuk, Cities ID: 6170031\n",
      "Cities Name: port-cartier, Cities ID: 6111696\n",
      "Cities Name: castro, Cities ID: 3466704\n",
      "Cities Name: saint anthony, Cities ID: 5044290\n",
      "Cities Name: ipueiras, Cities ID: 3398076\n",
      "Cities Name: japura, Cities ID: 1642773\n",
      "Cities Name: sabang, Cities ID: 1214026\n",
      "Cities Name: dwarka, Cities ID: 1272140\n",
      "Cities Name: port hedland, Cities ID: 2063042\n",
      "Cities Name: longyearbyen, Cities ID: 2729907\n",
      "Cities Name: novikovo, Cities ID: 487928\n",
      "Cities Name: perm, Cities ID: 511196\n",
      "Cities Name: shiraoi, Cities ID: 2128072\n",
      "Cities Name: portland, Cities ID: 5746545\n",
      "No city name found\n",
      "No city name found\n",
      "Cities Name: katobu, Cities ID: 1640972\n",
      "Cities Name: haflong, Cities ID: 1270543\n",
      "No city name found\n",
      "Cities Name: ushtobe, Cities ID: 1517637\n",
      "Cities Name: alto araguaia, Cities ID: 3472473\n",
      "Cities Name: dagana, Cities ID: 2246550\n",
      "Cities Name: tlacolula, Cities ID: 3515484\n",
      "Cities Name: maniitsoq, Cities ID: 3421982\n",
      "Cities Name: luderitz, Cities ID: 3355672\n",
      "Cities Name: ereymentau, Cities ID: 1524302\n",
      "Cities Name: ouesso, Cities ID: 2255564\n",
      "Cities Name: san patricio, Cities ID: 4726521\n",
      "No city name found\n",
      "Cities Name: banamba, Cities ID: 2460546\n",
      "Cities Name: los llanos de aridane, Cities ID: 2514651\n",
      "Cities Name: tuatapere, Cities ID: 2180815\n",
      "Cities Name: teguise, Cities ID: 2510573\n",
      "Cities Name: dalian, Cities ID: 1814087\n",
      "Cities Name: matara, Cities ID: 1235846\n",
      "Cities Name: manokwari, Cities ID: 1636308\n",
      "Cities Name: dikson, Cities ID: 1507390\n",
      "Cities Name: pevek, Cities ID: 2122090\n",
      "Cities Name: mount gambier, Cities ID: 2156643\n",
      "Cities Name: ajdabiya, Cities ID: 89113\n",
      "Cities Name: aasiaat, Cities ID: 3424901\n",
      "Cities Name: pisco, Cities ID: 3932145\n",
      "Cities Name: laguna, Cities ID: 5364271\n",
      "Cities Name: lompoc, Cities ID: 5367788\n",
      "Cities Name: khandyga, Cities ID: 2022773\n",
      "No city name found\n",
      "Cities Name: atar, Cities ID: 2381334\n",
      "Cities Name: finschhafen, Cities ID: 2097418\n",
      "No city name found\n",
      "Cities Name: pangai, Cities ID: 4032369\n",
      "Cities Name: domoni, Cities ID: 921906\n",
      "Cities Name: ponta do sol, Cities ID: 2264557\n",
      "Cities Name: petropavlovsk-kamchatskiy, Cities ID: 2122104\n",
      "Cities Name: solnechnyy, Cities ID: 2016307\n",
      "Cities Name: potiskum, Cities ID: 2324767\n",
      "Cities Name: la rioja, Cities ID: 3336897\n",
      "Cities Name: severo-kurilsk, Cities ID: 2121385\n",
      "Cities Name: xam nua, Cities ID: 1652203\n",
      "Cities Name: mutata, Cities ID: 3674130\n",
      "Cities Name: san isidro, Cities ID: 3929631\n",
      "Cities Name: pacific grove, Cities ID: 5380437\n",
      "Cities Name: barcelona, Cities ID: 3128760\n",
      "Cities Name: evora, Cities ID: 2268406\n",
      "Cities Name: kandrian, Cities ID: 2094746\n",
      "Cities Name: vila do maio, Cities ID: 3374120\n",
      "Cities Name: rudbar, Cities ID: 1128239\n",
      "Cities Name: suslovo, Cities ID: 1490591\n",
      "Cities Name: nalut, Cities ID: 2214432\n",
      "Cities Name: sikasso, Cities ID: 2451184\n",
      "Cities Name: nizhneudinsk, Cities ID: 1497549\n",
      "Cities Name: alice springs, Cities ID: 2077895\n",
      "Cities Name: caconda, Cities ID: 3351380\n",
      "Cities Name: kingsland, Cities ID: 4204007\n",
      "Cities Name: nome, Cities ID: 5870133\n",
      "Cities Name: vkhodnoy, Cities ID: 1487048\n",
      "Cities Name: vestmanna, Cities ID: 2610343\n",
      "Cities Name: mildura, Cities ID: 2157698\n",
      "Cities Name: matay, Cities ID: 352628\n",
      "Cities Name: vila franca do campo, Cities ID: 3372472\n",
      "Cities Name: mahanoro, Cities ID: 1062553\n",
      "Cities Name: oxbow, Cities ID: 6095751\n",
      "Cities Name: san cristobal, Cities ID: 3628473\n",
      "Cities Name: hambantota, Cities ID: 1244926\n",
      "Cities Name: lucapa, Cities ID: 145724\n",
      "Cities Name: sulina, Cities ID: 665790\n",
      "Cities Name: filingue, Cities ID: 2444995\n",
      "Cities Name: skjervoy, Cities ID: 777682\n",
      "Cities Name: nizhniy kuranakh, Cities ID: 2019135\n",
      "Cities Name: trincomalee, Cities ID: 1226260\n",
      "Cities Name: laem sing, Cities ID: 1609278\n",
      "Cities Name: prainha, Cities ID: 3391287\n",
      "Cities Name: flinders, Cities ID: 6255012\n",
      "Cities Name: herat, Cities ID: 1140025\n",
      "Cities Name: kidal, Cities ID: 2455290\n",
      "Cities Name: makurdi, Cities ID: 2331140\n",
      "Cities Name: wawa, Cities ID: 2319078\n",
      "Cities Name: isperih, Cities ID: 730866\n",
      "Cities Name: marietta, Cities ID: 4207783\n",
      "Cities Name: nicoya, Cities ID: 3622716\n",
      "No city name found\n",
      "Cities Name: grand gaube, Cities ID: 934479\n",
      "Cities Name: kangaatsiaq, Cities ID: 3422683\n",
      "Cities Name: elko, Cities ID: 5703673\n",
      "Cities Name: kavieng, Cities ID: 2094342\n",
      "Cities Name: pundaguitan, Cities ID: 1698289\n",
      "Cities Name: ukiah, Cities ID: 5404476\n",
      "Cities Name: bontang, Cities ID: 1648186\n",
      "Cities Name: tongchuan, Cities ID: 1795196\n",
      "Cities Name: zhanakorgan, Cities ID: 1517323\n",
      "Cities Name: macae, Cities ID: 3458266\n",
      "Cities Name: the valley, Cities ID: 3573374\n",
      "Cities Name: mahibadhoo, Cities ID: 1337605\n",
      "Cities Name: alofi, Cities ID: 4036284\n",
      "Cities Name: codrington, Cities ID: 2171099\n",
      "Cities Name: sept-iles, Cities ID: 6144312\n",
      "No city name found\n",
      "Cities Name: lima, Cities ID: 3936456\n",
      "Cities Name: kamyshevatskaya, Cities ID: 553310\n",
      "Cities Name: sawtell, Cities ID: 2150163\n",
      "Cities Name: guerrero negro, Cities ID: 4021858\n",
      "Cities Name: eyl, Cities ID: 60019\n",
      "Cities Name: broome, Cities ID: 5110365\n",
      "Cities Name: zyryanka, Cities ID: 2119283\n",
      "Cities Name: luba, Cities ID: 2309528\n",
      "Cities Name: agadez, Cities ID: 2448083\n",
      "Cities Name: vila velha, Cities ID: 3445026\n",
      "Cities Name: kita, Cities ID: 2455216\n",
      "Cities Name: beringovskiy, Cities ID: 2126710\n",
      "Cities Name: north myrtle beach, Cities ID: 4589446\n",
      "Cities Name: gornopravdinsk, Cities ID: 1506268\n",
      "Cities Name: dunedin, Cities ID: 2191562\n",
      "Cities Name: keetmanshoop, Cities ID: 3356264\n",
      "Cities Name: road town, Cities ID: 3577430\n",
      "Cities Name: sola, Cities ID: 2134814\n",
      "Cities Name: vygonichi, Cities ID: 470473\n",
      "Cities Name: ambunti, Cities ID: 2100933\n",
      "Cities Name: lindi, Cities ID: 878281\n",
      "Cities Name: hoopstad, Cities ID: 995573\n",
      "Cities Name: te anau, Cities ID: 2181625\n",
      "No city name found\n",
      "Cities Name: saint-joseph, Cities ID: 6690296\n",
      "Cities Name: makakilo city, Cities ID: 5850554\n",
      "Cities Name: lorengau, Cities ID: 2092164\n",
      "Cities Name: hatfield, Cities ID: 2647349\n",
      "Cities Name: lufilufi, Cities ID: 4035249\n",
      "No city name found\n",
      "Cities Name: sarakhs, Cities ID: 1159716\n",
      "Cities Name: olafsvik, Cities ID: 3414079\n",
      "Cities Name: mpika, Cities ID: 905846\n",
      "No city name found\n",
      "Cities Name: henties bay, Cities ID: 3356832\n",
      "Cities Name: vestmannaeyjar, Cities ID: 3412093\n",
      "Cities Name: rodrigues alves, Cities ID: 3665210\n",
      "Cities Name: washington, Cities ID: 5815135\n",
      "No city name found\n",
      "Cities Name: clyde river, Cities ID: 5924351\n",
      "Cities Name: maraba, Cities ID: 3395503\n",
      "Cities Name: egvekinot, Cities ID: 4031742\n",
      "Cities Name: gotsu, Cities ID: 1863521\n",
      "No city name found\n",
      "Cities Name: havelock, Cities ID: 4470244\n",
      "Cities Name: kahului, Cities ID: 5847411\n",
      "Cities Name: temerloh, Cities ID: 1735022\n",
      "Cities Name: agirish, Cities ID: 1512101\n",
      "No city name found\n",
      "Cities Name: de-kastri, Cities ID: 2126018\n",
      "Cities Name: itacare, Cities ID: 3460940\n",
      "Cities Name: topolobampo, Cities ID: 3981345\n",
      "No city name found\n",
      "Cities Name: lev tolstoy, Cities ID: 535417\n",
      "Cities Name: comodoro rivadavia, Cities ID: 3860443\n",
      "Cities Name: glenn dale, Cities ID: 4356289\n",
      "Cities Name: geraldton, Cities ID: 2070998\n",
      "Cities Name: sorland, Cities ID: 3137469\n",
      "Cities Name: alliston, Cities ID: 5884051\n",
      "Cities Name: ati, Cities ID: 2436400\n",
      "Cities Name: mayo, Cities ID: 4362001\n",
      "No city name found\n",
      "Cities Name: rio formoso, Cities ID: 3390295\n",
      "Cities Name: seoul, Cities ID: 1835848\n",
      "Cities Name: port hardy, Cities ID: 6111862\n",
      "Cities Name: isiolo, Cities ID: 196231\n",
      "Cities Name: massaguet, Cities ID: 2428231\n",
      "Cities Name: sassandra, Cities ID: 2281951\n",
      "Cities Name: kungurtug, Cities ID: 1501377\n",
      "Cities Name: adzope, Cities ID: 2293342\n",
      "Cities Name: mehamn, Cities ID: 778707\n",
      "Cities Name: luancheng, Cities ID: 1802204\n",
      "No city name found\n",
      "Cities Name: solwezi, Cities ID: 897045\n",
      "Cities Name: avarua, Cities ID: 4035715\n",
      "Cities Name: fayaoue, Cities ID: 2141305\n",
      "Cities Name: warrington, Cities ID: 2634739\n",
      "Cities Name: fastiv, Cities ID: 709248\n",
      "No city name found\n",
      "Cities Name: rochegda, Cities ID: 501847\n",
      "Cities Name: kirillov, Cities ID: 548478\n",
      "Cities Name: talaya, Cities ID: 2120769\n",
      "Cities Name: shenkursk, Cities ID: 494884\n",
      "Cities Name: whitehorse, Cities ID: 6180550\n",
      "No city name found\n",
      "Cities Name: bengkulu, Cities ID: 1649150\n",
      "Cities Name: ahualulco, Cities ID: 4019085\n",
      "Cities Name: bealanana, Cities ID: 1068670\n",
      "Cities Name: lomovka, Cities ID: 534313\n",
      "Cities Name: beidao, Cities ID: 1816751\n",
      "Cities Name: saldanha, Cities ID: 3361934\n",
      "Cities Name: batemans bay, Cities ID: 2176639\n",
      "Cities Name: maraa, Cities ID: 3663475\n",
      "Cities Name: along, Cities ID: 1278969\n",
      "No city name found\n",
      "Cities Name: nemuro, Cities ID: 2128975\n",
      "Cities Name: amudat, Cities ID: 235191\n",
      "Cities Name: surin, Cities ID: 1606030\n",
      "Cities Name: mgandu, Cities ID: 154097\n",
      "Cities Name: shingu, Cities ID: 1847947\n",
      "Cities Name: thabazimbi, Cities ID: 949683\n",
      "Cities Name: canete, Cities ID: 3896924\n",
      "Cities Name: ilheus, Cities ID: 3461408\n",
      "Cities Name: getulio vargas, Cities ID: 3440791\n",
      "Cities Name: pontianak, Cities ID: 1630789\n",
      "Cities Name: tateyama, Cities ID: 1850523\n",
      "Cities Name: gardenstown, Cities ID: 2649089\n",
      "Cities Name: hare bay, Cities ID: 5970873\n",
      "Cities Name: lesozavodsk, Cities ID: 2020812\n",
      "Cities Name: northam, Cities ID: 2641434\n",
      "Cities Name: port-gentil, Cities ID: 2396518\n",
      "Cities Name: blyth, Cities ID: 2655315\n",
      "Cities Name: saint-francois, Cities ID: 2980080\n",
      "Cities Name: noumea, Cities ID: 2139521\n",
      "Cities Name: amarpatan, Cities ID: 1278899\n",
      "Cities Name: mocuba, Cities ID: 1024312\n",
      "Cities Name: biak, Cities ID: 1637001\n",
      "Cities Name: tacuarembo, Cities ID: 3440034\n",
      "Cities Name: nanae, Cities ID: 2129003\n",
      "Cities Name: north mankato, Cities ID: 5039537\n",
      "Cities Name: dryden, Cities ID: 5942913\n",
      "Cities Name: chicama, Cities ID: 3698359\n",
      "No city name found\n",
      "Cities Name: trofors, Cities ID: 3133983\n",
      "Cities Name: umm kaddadah, Cities ID: 364933\n",
      "Cities Name: hualmay, Cities ID: 3939761\n",
      "Cities Name: pinkafeld, Cities ID: 2768811\n",
      "Cities Name: pietarsaari, Cities ID: 642455\n",
      "No city name found\n",
      "Cities Name: kieta, Cities ID: 2094027\n",
      "Cities Name: opunake, Cities ID: 2206357\n",
      "Cities Name: lasa, Cities ID: 3175096\n",
      "No city name found\n",
      "Cities Name: buchanan, Cities ID: 2278158\n",
      "Cities Name: altay, Cities ID: 1529651\n",
      "No city name found\n",
      "Cities Name: malatya, Cities ID: 304919\n",
      "Cities Name: shizunai, Cities ID: 2128025\n",
      "Cities Name: okhotsk, Cities ID: 2122605\n",
      "Cities Name: terra santa, Cities ID: 3386467\n",
      "Cities Name: sao filipe, Cities ID: 3374210\n",
      "Cities Name: general jose eduvigis diaz, Cities ID: 3438064\n",
      "Cities Name: pimentel, Cities ID: 3693584\n",
      "Cities Name: margate, Cities ID: 2643044\n",
      "No city name found\n",
      "Cities Name: kavaratti, Cities ID: 1267390\n",
      "Cities Name: kichera, Cities ID: 2022129\n",
      "Cities Name: ixtapa, Cities ID: 4004293\n",
      "Cities Name: ambilobe, Cities ID: 1082243\n",
      "Cities Name: gravdal, Cities ID: 3155152\n",
      "Cities Name: oktyabrskiy, Cities ID: 515879\n",
      "Cities Name: manggar, Cities ID: 1636426\n",
      "No city name found\n",
      "Cities Name: mount isa, Cities ID: 2065594\n",
      "Cities Name: rocha, Cities ID: 3440777\n",
      "Cities Name: maldonado, Cities ID: 3441890\n",
      "Cities Name: port blair, Cities ID: 1259385\n",
      "Cities Name: concordia, Cities ID: 3435261\n",
      "Cities Name: banda aceh, Cities ID: 1215502\n",
      "Cities Name: huarmey, Cities ID: 3939168\n",
      "Cities Name: hasaki, Cities ID: 2112802\n",
      "Cities Name: hella, Cities ID: 3230781\n",
      "Cities Name: auki, Cities ID: 2109701\n",
      "Cities Name: lewiston, Cities ID: 4969398\n",
      "No city name found\n",
      "Cities Name: baykit, Cities ID: 1510689\n",
      "Cities Name: poum, Cities ID: 2138555\n",
      "Cities Name: pokrovsk, Cities ID: 704422\n",
      "Cities Name: vereshchagino, Cities ID: 475777\n",
      "Cities Name: stokmarknes, Cities ID: 3136690\n",
      "Cities Name: sitka, Cities ID: 5557293\n",
      "Cities Name: farsund, Cities ID: 3157799\n",
      "Cities Name: yumen, Cities ID: 1528998\n",
      "Cities Name: saint-pierre, Cities ID: 935214\n",
      "Cities Name: roebourne, Cities ID: 2062276\n",
      "Cities Name: qostanay, Cities ID: 1519928\n",
      "Cities Name: yarim, Cities ID: 69559\n",
      "Cities Name: soissons, Cities ID: 2974388\n",
      "Cities Name: pemangkat, Cities ID: 1631637\n",
      "Cities Name: williamsport, Cities ID: 5219585\n",
      "Cities Name: beloye, Cities ID: 712515\n",
      "Cities Name: beian, Cities ID: 3160100\n",
      "Cities Name: ketchikan, Cities ID: 5554428\n",
      "Cities Name: sal rei, Cities ID: 3374235\n",
      "Cities Name: fukue, Cities ID: 1863997\n",
      "Cities Name: imbituba, Cities ID: 3461370\n",
      "Cities Name: aden, Cities ID: 415189\n",
      "Cities Name: mangrol, Cities ID: 1263752\n",
      "Cities Name: arlit, Cities ID: 2447513\n",
      "Cities Name: diveyevo, Cities ID: 566165\n",
      "Cities Name: susanville, Cities ID: 5572400\n",
      "Cities Name: lavrentiya, Cities ID: 4031637\n",
      "Cities Name: riyadh, Cities ID: 108410\n",
      "Cities Name: coquimbo, Cities ID: 3893629\n",
      "Cities Name: bereda, Cities ID: 3105522\n",
      "Cities Name: ondjiva, Cities ID: 3346821\n",
      "Cities Name: leshukonskoye, Cities ID: 535839\n",
      "Cities Name: linxia, Cities ID: 1803331\n",
      "Cities Name: kysyl-syr, Cities ID: 2021017\n",
      "Cities Name: canning, Cities ID: 1274984\n",
      "Cities Name: lermontovka, Cities ID: 2020824\n",
      "Cities Name: moratuwa, Cities ID: 1234633\n",
      "Cities Name: constitucion, Cities ID: 3893726\n",
      "Cities Name: cubatao, Cities ID: 3465059\n",
      "Cities Name: huntsville, Cities ID: 4068590\n",
      "Cities Name: santander jimenez, Cities ID: 3517151\n",
      "No city name found\n",
      "Cities Name: christchurch, Cities ID: 2192362\n",
      "Cities Name: dingle, Cities ID: 1714733\n",
      "Cities Name: aswan, Cities ID: 359792\n",
      "Cities Name: gat, Cities ID: 293842\n",
      "Cities Name: pshekhskaya, Cities ID: 504371\n",
      "Cities Name: natalicio talavera, Cities ID: 3437682\n",
      "Cities Name: sakaiminato, Cities ID: 1853174\n",
      "Cities Name: hurghada, Cities ID: 361291\n",
      "Cities Name: meulaboh, Cities ID: 1214488\n",
      "Cities Name: onufriyivka, Cities ID: 698479\n",
      "Cities Name: bell ville, Cities ID: 3864331\n",
      "Cities Name: kutum, Cities ID: 371745\n",
      "Cities Name: shakawe, Cities ID: 933077\n",
      "Cities Name: beipiao, Cities ID: 2038342\n",
      "Cities Name: krasnoselkup, Cities ID: 1502073\n",
      "Cities Name: raga, Cities ID: 368246\n",
      "Cities Name: ballina, Cities ID: 2177069\n",
      "Cities Name: semme, Cities ID: 3006387\n",
      "Cities Name: lishu, Cities ID: 2036055\n",
      "Cities Name: kaeo, Cities ID: 2189343\n",
      "Cities Name: atherton, Cities ID: 2656847\n",
      "Cities Name: uvira, Cities ID: 204405\n",
      "Cities Name: mananjary, Cities ID: 1061335\n",
      "Cities Name: moba, Cities ID: 7341918\n",
      "Cities Name: kuching, Cities ID: 1735634\n",
      "Cities Name: flin flon, Cities ID: 5954718\n",
      "Cities Name: bundaberg, Cities ID: 2173323\n",
      "No city name found\n",
      "Cities Name: alpena, Cities ID: 4984075\n",
      "Cities Name: san, Cities ID: 2451778\n",
      "No city name found\n",
      "Cities Name: goderich, Cities ID: 5962442\n",
      "Cities Name: necochea, Cities ID: 3430443\n",
      "Cities Name: khuzdar, Cities ID: 7082481\n",
      "Cities Name: grindavik, Cities ID: 3416888\n",
      "Cities Name: mulanje, Cities ID: 925789\n",
      "Cities Name: malibu, Cities ID: 5369906\n",
      "Cities Name: kirksville, Cities ID: 5055787\n",
      "Cities Name: kagalnitskaya, Cities ID: 554482\n",
      "Cities Name: ampanihy, Cities ID: 1078553\n",
      "No city name found\n",
      "Cities Name: omboue, Cities ID: 2396853\n",
      "Cities Name: barillas, Cities ID: 3599575\n",
      "Cities Name: preobrazheniye, Cities ID: 2017658\n",
      "Cities Name: samarai, Cities ID: 2132606\n",
      "Cities Name: maridi, Cities ID: 370457\n",
      "Cities Name: namatanai, Cities ID: 2090021\n",
      "Cities Name: sioux lookout, Cities ID: 6148373\n",
      "Cities Name: mahebourg, Cities ID: 934322\n",
      "Cities Name: encarnacion, Cities ID: 3438735\n",
      "Cities Name: cascais, Cities ID: 2269594\n",
      "Cities Name: mugur-aksy, Cities ID: 1498283\n",
      "Cities Name: primorsk, Cities ID: 696292\n",
      "Cities Name: lata, Cities ID: 2738381\n",
      "Cities Name: tarakan, Cities ID: 1624725\n",
      "Cities Name: itarema, Cities ID: 3393692\n",
      "Cities Name: lishan, Cities ID: 1803267\n",
      "Cities Name: glace bay, Cities ID: 5961564\n",
      "Cities Name: tomball, Cities ID: 4737094\n",
      "Cities Name: bandarbeyla, Cities ID: 64814\n",
      "Cities Name: jinchang, Cities ID: 1805733\n",
      "Cities Name: bandar, Cities ID: 1215498\n",
      "Cities Name: sigli, Cities ID: 1213821\n",
      "No city name found\n",
      "Cities Name: hirara, Cities ID: 1862505\n",
      "Cities Name: aljezur, Cities ID: 2271968\n",
      "Cities Name: florianopolis, Cities ID: 6323121\n",
      "Cities Name: san carlos, Cities ID: 3628503\n",
      "Cities Name: xining, Cities ID: 1788852\n",
      "No city name found\n",
      "No city name found\n",
      "Cities Name: paamiut, Cities ID: 3421193\n",
      "Cities Name: ostrovnoy, Cities ID: 556268\n",
      "Cities Name: aksarka, Cities ID: 1512019\n",
      "Cities Name: marsa matruh, Cities ID: 352733\n",
      "Cities Name: muli, Cities ID: 1337617\n",
      "Cities Name: teguldet, Cities ID: 1489822\n",
      "Cities Name: ormara, Cities ID: 1168700\n",
      "Cities Name: ambon, Cities ID: 1651531\n",
      "Cities Name: bilma, Cities ID: 2446796\n",
      "Cities Name: santa lucia, Cities ID: 2511150\n",
      "Cities Name: akabira, Cities ID: 2130705\n",
      "Cities Name: nizhnyaya tavda, Cities ID: 1497376\n",
      "Cities Name: szaszvar, Cities ID: 3044835\n",
      "Cities Name: webuye, Cities ID: 178202\n",
      "Cities Name: dubbo, Cities ID: 2168305\n",
      "Cities Name: monterey, Cities ID: 5374376\n",
      "Cities Name: kenora, Cities ID: 5991056\n"
     ]
    }
   ],
   "source": [
    "# set of list\n",
    "city_id_list = []\n",
    "city_name_list = []\n",
    "country_list = []\n",
    "max_temp_list = []\n",
    "lat_list = []\n",
    "lng_list = []\n",
    "humidity_list = []\n",
    "cloudiness_list = [] \n",
    "wind_speed_list = []\n",
    "\n",
    "# Loop through the list of cities and perform a request for data on each\n",
    "for city in cities:\n",
    "    response = requests.get( url + \"&q=\" + city).json()\n",
    "    try:\n",
    "        city_id= response['id']\n",
    "        city_id_list.append(city_id)\n",
    "\n",
    "        city_name = response['name']\n",
    "        city_name_list.append(city_name)\n",
    "\n",
    "        country = response['sys']['country']\n",
    "        country_list.append(country)\n",
    "\n",
    "        max_temp = response['main']['temp_max']\n",
    "        max_temp_list.append(max_temp)\n",
    "\n",
    "        lat = response['coord']['lat']\n",
    "        lat_list.append(lat)\n",
    "\n",
    "        lng = response['coord']['lon']\n",
    "        lng_list.append(lng)\n",
    "\n",
    "        humidity = response['main']['humidity']\n",
    "        humidity_list.append(humidity)\n",
    "\n",
    "        cloudiness = response['clouds']['all']\n",
    "        cloudiness_list.append(cloudiness)\n",
    "\n",
    "        wind_speed = response['wind']['speed']\n",
    "        wind_speed_list.append(wind_speed)\n",
    "\n",
    "        print(f\"Cities Name: {city}, Cities ID: {city_id}\")\n",
    "    except:\n",
    "        print(f\"No city name found\")"
   ]
  },
  {
   "cell_type": "markdown",
   "metadata": {},
   "source": [
    "### Convert Raw Data to DataFrame\n",
    "* Export the city data into a .csv.\n",
    "* Display the DataFrame"
   ]
  },
  {
   "cell_type": "code",
   "execution_count": 6,
   "metadata": {},
   "outputs": [
    {
     "data": {
      "text/html": [
       "<div>\n",
       "<style scoped>\n",
       "    .dataframe tbody tr th:only-of-type {\n",
       "        vertical-align: middle;\n",
       "    }\n",
       "\n",
       "    .dataframe tbody tr th {\n",
       "        vertical-align: top;\n",
       "    }\n",
       "\n",
       "    .dataframe thead th {\n",
       "        text-align: right;\n",
       "    }\n",
       "</style>\n",
       "<table border=\"1\" class=\"dataframe\">\n",
       "  <thead>\n",
       "    <tr style=\"text-align: right;\">\n",
       "      <th></th>\n",
       "      <th>City ID</th>\n",
       "      <th>City</th>\n",
       "      <th>Country</th>\n",
       "      <th>Max Temp</th>\n",
       "      <th>Lat</th>\n",
       "      <th>Lng</th>\n",
       "      <th>Humidity</th>\n",
       "      <th>Cloudiness</th>\n",
       "      <th>Wind Speed</th>\n",
       "    </tr>\n",
       "  </thead>\n",
       "  <tbody>\n",
       "    <tr>\n",
       "      <th>0</th>\n",
       "      <td>2022572</td>\n",
       "      <td>Khatanga</td>\n",
       "      <td>RU</td>\n",
       "      <td>-4.56</td>\n",
       "      <td>71.9667</td>\n",
       "      <td>102.5000</td>\n",
       "      <td>94</td>\n",
       "      <td>98</td>\n",
       "      <td>13.76</td>\n",
       "    </tr>\n",
       "    <tr>\n",
       "      <th>1</th>\n",
       "      <td>1106677</td>\n",
       "      <td>Bambous Virieux</td>\n",
       "      <td>MU</td>\n",
       "      <td>74.21</td>\n",
       "      <td>-20.3428</td>\n",
       "      <td>57.7575</td>\n",
       "      <td>75</td>\n",
       "      <td>93</td>\n",
       "      <td>5.32</td>\n",
       "    </tr>\n",
       "    <tr>\n",
       "      <th>2</th>\n",
       "      <td>4030556</td>\n",
       "      <td>Rikitea</td>\n",
       "      <td>PF</td>\n",
       "      <td>79.21</td>\n",
       "      <td>-23.1203</td>\n",
       "      <td>-134.9692</td>\n",
       "      <td>70</td>\n",
       "      <td>48</td>\n",
       "      <td>15.52</td>\n",
       "    </tr>\n",
       "    <tr>\n",
       "      <th>3</th>\n",
       "      <td>3831208</td>\n",
       "      <td>Qaanaaq</td>\n",
       "      <td>GL</td>\n",
       "      <td>-20.94</td>\n",
       "      <td>77.4840</td>\n",
       "      <td>-69.3632</td>\n",
       "      <td>70</td>\n",
       "      <td>97</td>\n",
       "      <td>7.16</td>\n",
       "    </tr>\n",
       "    <tr>\n",
       "      <th>4</th>\n",
       "      <td>2074865</td>\n",
       "      <td>Carnarvon</td>\n",
       "      <td>AU</td>\n",
       "      <td>80.67</td>\n",
       "      <td>-24.8667</td>\n",
       "      <td>113.6333</td>\n",
       "      <td>69</td>\n",
       "      <td>0</td>\n",
       "      <td>6.91</td>\n",
       "    </tr>\n",
       "  </tbody>\n",
       "</table>\n",
       "</div>"
      ],
      "text/plain": [
       "   City ID             City Country  Max Temp      Lat       Lng  Humidity  \\\n",
       "0  2022572         Khatanga      RU     -4.56  71.9667  102.5000        94   \n",
       "1  1106677  Bambous Virieux      MU     74.21 -20.3428   57.7575        75   \n",
       "2  4030556          Rikitea      PF     79.21 -23.1203 -134.9692        70   \n",
       "3  3831208          Qaanaaq      GL    -20.94  77.4840  -69.3632        70   \n",
       "4  2074865        Carnarvon      AU     80.67 -24.8667  113.6333        69   \n",
       "\n",
       "   Cloudiness  Wind Speed  \n",
       "0          98       13.76  \n",
       "1          93        5.32  \n",
       "2          48       15.52  \n",
       "3          97        7.16  \n",
       "4           0        6.91  "
      ]
     },
     "execution_count": 6,
     "metadata": {},
     "output_type": "execute_result"
    }
   ],
   "source": [
    "cities_df = pd.DataFrame({'City ID': city_id_list, 'City': city_name_list, 'Country': country_list, \n",
    "                            'Max Temp': max_temp_list, 'Lat': lat_list, 'Lng': lng_list, \n",
    "                            'Humidity': humidity_list, 'Cloudiness': cloudiness_list, 'Wind Speed': wind_speed_list})\n",
    "cities_df.head()"
   ]
  },
  {
   "cell_type": "code",
   "execution_count": 7,
   "metadata": {},
   "outputs": [],
   "source": [
    "# Export dataframe csv file\n",
    "cities_df.to_csv(\"cities_df.csv\", encoding=\"utf-8\", index=False)"
   ]
  },
  {
   "cell_type": "markdown",
   "metadata": {},
   "source": [
    "## Inspect the data and remove the cities where the humidity > 100%.\n",
    "----\n",
    "Skip this step if there are no cities that have humidity > 100%. "
   ]
  },
  {
   "cell_type": "code",
   "execution_count": 8,
   "metadata": {},
   "outputs": [],
   "source": [
    "#  Get the indices of cities that have humidity over 100%\n",
    "humidity = cities_df[\"Humidity\"].tolist()\n",
    "humidity.sort(reverse=True)\n"
   ]
  },
  {
   "cell_type": "markdown",
   "metadata": {},
   "source": [
    "## Plotting the Data\n",
    "* Use proper labeling of the plots using plot titles (including date of analysis) and axes labels.\n",
    "* Save the plotted figures as .pngs."
   ]
  },
  {
   "cell_type": "markdown",
   "metadata": {},
   "source": [
    "## Latitude vs. Temperature Plot"
   ]
  },
  {
   "cell_type": "code",
   "execution_count": 9,
   "metadata": {
    "scrolled": true
   },
   "outputs": [
    {
     "data": {
      "image/png": "[encoded data removed]",
      "text/plain": [
       "<Figure size 432x288 with 1 Axes>"
      ]
     },
     "metadata": {
      "needs_background": "light"
     },
     "output_type": "display_data"
    },
    {
     "name": "stdout",
     "output_type": "stream",
     "text": [
      "Looking at Latitude vs Temperature we see that as the Latitude increases Temperature goes down.\n"
     ]
    }
   ],
   "source": [
    "plt.scatter(lat_list, max_temp_list, marker=\"o\", facecolors=\"red\", edgecolors=\"black\")\n",
    "plt.title(\"Latitude vs Temperature\")\n",
    "plt.xlabel(\"Latitude\")\n",
    "plt.ylabel(\"Temperature\")\n",
    "\n",
    "plt.savefig(\"Images/Latitude_vs_Temperature.png\")\n",
    "plt.show()\n",
    "print(f\"Looking at Latitude vs Temperature we see that as the Latitude increases Temperature goes down.\")"
   ]
  },
  {
   "cell_type": "markdown",
   "metadata": {},
   "source": [
    "## Latitude vs. Humidity Plot"
   ]
  },
  {
   "cell_type": "code",
   "execution_count": 10,
   "metadata": {},
   "outputs": [
    {
     "data": {
      "image/png": "[encoded data removed]",
      "text/plain": [
       "<Figure size 432x288 with 1 Axes>"
      ]
     },
     "metadata": {
      "needs_background": "light"
     },
     "output_type": "display_data"
    },
    {
     "name": "stdout",
     "output_type": "stream",
     "text": [
      "Looking at Latitude vs Humidity we see that as Latitude increases there tends to be higher Humidity.\n"
     ]
    }
   ],
   "source": [
    "plt.scatter(lat_list, humidity_list, marker=\"o\", facecolors=\"red\", edgecolors=\"black\")\n",
    "plt.title(\"Latitude vs Humidity\")\n",
    "plt.xlabel(\"Latitude\")\n",
    "plt.ylabel(\"Humidity\")\n",
    "\n",
    "plt.savefig(\"Images/Latitude_vs_Humidity.png\")\n",
    "plt.show()\n",
    "print(f\"Looking at Latitude vs Humidity we see that as Latitude increases there tends to be higher Humidity.\")"
   ]
  },
  {
   "cell_type": "markdown",
   "metadata": {},
   "source": [
    "## Latitude vs. Cloudiness Plot"
   ]
  },
  {
   "cell_type": "code",
   "execution_count": 11,
   "metadata": {},
   "outputs": [
    {
     "data": {
      "image/png": "[encoded data removed]",
      "text/plain": [
       "<Figure size 432x288 with 1 Axes>"
      ]
     },
     "metadata": {
      "needs_background": "light"
     },
     "output_type": "display_data"
    },
    {
     "name": "stdout",
     "output_type": "stream",
     "text": [
      "Looking at Latitude vs Cloudiness we see that even when the Latitude is high or low there is a high or low amount of Cloudiness.\n"
     ]
    }
   ],
   "source": [
    "plt.scatter(lat_list, cloudiness_list, marker=\"o\", facecolors=\"red\", edgecolors=\"black\")\n",
    "plt.title(\"Latitude vs Cloudiness\")\n",
    "plt.xlabel(\"Latitude\")\n",
    "plt.ylabel(\"Cloudiness\")\n",
    "\n",
    "plt.savefig(\"Images/Latitude_vs_Cloudiness.png\")\n",
    "plt.show()\n",
    "print(f\"Looking at Latitude vs Cloudiness we see that even when the Latitude is high or low there is a high or low amount of Cloudiness.\")"
   ]
  },
  {
   "cell_type": "markdown",
   "metadata": {},
   "source": [
    "## Latitude vs. Wind Speed Plot"
   ]
  },
  {
   "cell_type": "code",
   "execution_count": 12,
   "metadata": {},
   "outputs": [
    {
     "data": {
      "image/png": "[encoded data removed]",
      "text/plain": [
       "<Figure size 432x288 with 1 Axes>"
      ]
     },
     "metadata": {
      "needs_background": "light"
     },
     "output_type": "display_data"
    },
    {
     "name": "stdout",
     "output_type": "stream",
     "text": [
      "Looking at Latitude vs Wind Speed we see that Wind Speed stays relatively low even as Latitude increases.\n"
     ]
    }
   ],
   "source": [
    "plt.scatter(lat_list, wind_speed_list, marker=\"o\", facecolors=\"red\", edgecolors=\"black\")\n",
    "plt.title(\"Latitude vs Wind Speed\")\n",
    "plt.xlabel(\"Latitude\")\n",
    "plt.ylabel(\"Wind Speed\")\n",
    "\n",
    "plt.savefig(\"Images/Latitude_vs_WindSpeed.png\")\n",
    "plt.show()\n",
    "print(f\"Looking at Latitude vs Wind Speed we see that Wind Speed stays relatively low even as Latitude increases.\")"
   ]
  },
  {
   "cell_type": "markdown",
   "metadata": {},
   "source": [
    "## Linear Regression"
   ]
  },
  {
   "cell_type": "code",
   "execution_count": 23,
   "metadata": {},
   "outputs": [],
   "source": [
    "#Using locs to divide Northern and Southern Hemispheres \n",
    "north = cities_df.loc[cities_df['Lat']>0]\n",
    "south = cities_df.loc[cities_df['Lng']<0]"
   ]
  },
  {
   "cell_type": "markdown",
   "metadata": {},
   "source": [
    "####  Northern Hemisphere - Max Temp vs. Latitude Linear Regression"
   ]
  },
  {
   "cell_type": "code",
   "execution_count": 24,
   "metadata": {},
   "outputs": [
    {
     "data": {
      "image/png": "[encoded data removed]",
      "text/plain": [
       "<Figure size 432x288 with 1 Axes>"
      ]
     },
     "metadata": {
      "needs_background": "light"
     },
     "output_type": "display_data"
    },
    {
     "name": "stdout",
     "output_type": "stream",
     "text": [
      "(-0.8357984158495634, 2.708896525208139e-102)\n",
      "--------\n",
      "Looking at North Hemisphere-Max Temp vs Latitude we see that there is a high cluster of temperatures when the latitude is low but as latitude increases temperature decreases and is not as clustered.\n"
     ]
    }
   ],
   "source": [
    "x_values = north[\"Lat\"]\n",
    "y_values = north[\"Max Temp\"]\n",
    "\n",
    "#Correlation \n",
    "correlation = st.pearsonr(x_values,y_values)\n",
    "\n",
    "#Regression \n",
    "(slope, intercept, rvalue, pvalue, stderr) = linregress(x_values, y_values)\n",
    "regress_values = x_values * slope + intercept\n",
    "line_eq = \"y = \" + str(round(slope,2)) + \"x + \" + str(round(intercept,2))\n",
    "\n",
    "plt.scatter(x_values, y_values)\n",
    "plt.plot(x_values,regress_values,\"r-\")\n",
    "plt.annotate(line_eq,(10,20),fontsize=10,color=\"red\")\n",
    "plt.title('North Hemisphere - Max Temp vs Latitude')\n",
    "plt.xlabel('Latitude')\n",
    "plt.ylabel(\"Temperature\")\n",
    "\n",
    "plt.savefig(\"Images/NH_MaxTemp_vs_Lat.png\")\n",
    "plt.show()\n",
    "print(correlation)\n",
    "print('--------')\n",
    "print(f\"Looking at North Hemisphere-Max Temp vs Latitude we see that there is a high cluster of temperatures when the latitude is low but as latitude increases temperature decreases and is not as clustered.\")"
   ]
  },
  {
   "cell_type": "markdown",
   "metadata": {},
   "source": [
    "####  Southern Hemisphere - Max Temp vs. Latitude Linear Regression"
   ]
  },
  {
   "cell_type": "code",
   "execution_count": 25,
   "metadata": {},
   "outputs": [
    {
     "data": {
      "image/png": "[encoded data removed]",
      "text/plain": [
       "<Figure size 432x288 with 1 Axes>"
      ]
     },
     "metadata": {
      "needs_background": "light"
     },
     "output_type": "display_data"
    },
    {
     "name": "stdout",
     "output_type": "stream",
     "text": [
      "(-0.7123196376333937, 2.6993322815087108e-36)\n",
      "--------\n",
      "Looking at Southern Hemisphere-Max Temp vs Latitude we see just like in Northern Hemisphere as the latitude increases temperature decreases.\n"
     ]
    }
   ],
   "source": [
    "x_values = south[\"Lat\"]\n",
    "y_values = south[\"Max Temp\"]\n",
    "\n",
    "#Correlation \n",
    "correlation = st.pearsonr(x_values,y_values)\n",
    "\n",
    "#Regression \n",
    "(slope, intercept, rvalue, pvalue, stderr) = linregress(x_values, y_values)\n",
    "regress_values = x_values * slope + intercept\n",
    "line_eq = \"y = \" + str(round(slope,2)) + \"x + \" + str(round(intercept,2))\n",
    "\n",
    "plt.scatter(x_values, y_values)\n",
    "plt.plot(x_values,regress_values,\"r-\")\n",
    "plt.annotate(line_eq,(10,20),fontsize=10,color=\"red\")\n",
    "plt.title('South Hemisphere - Max Temp vs Latitude')\n",
    "plt.xlabel('Latitude')\n",
    "plt.ylabel(\"Temperature\")\n",
    "\n",
    "plt.savefig(\"Images/SH_MaxTemp_vs_Lat.png\")\n",
    "plt.show()\n",
    "print(correlation)\n",
    "print('--------')\n",
    "print(f\"Looking at Southern Hemisphere-Max Temp vs Latitude we see just like in Northern Hemisphere as the latitude increases temperature decreases.\")"
   ]
  },
  {
   "cell_type": "markdown",
   "metadata": {},
   "source": [
    "####  Northern Hemisphere - Humidity (%) vs. Latitude Linear Regression"
   ]
  },
  {
   "cell_type": "code",
   "execution_count": 26,
   "metadata": {},
   "outputs": [
    {
     "data": {
      "image/png": "[encoded data removed]",
      "text/plain": [
       "<Figure size 432x288 with 1 Axes>"
      ]
     },
     "metadata": {
      "needs_background": "light"
     },
     "output_type": "display_data"
    },
    {
     "name": "stdout",
     "output_type": "stream",
     "text": [
      "(0.33674811677078487, 1.0254273371593257e-11)\n",
      "--------\n",
      "Looking at Nouthern Hemisphere-Humidity vs Latitude we see as latitude increases Humidity increases as well. Just as the Linear Regression line shows.\n"
     ]
    }
   ],
   "source": [
    "x_values = north[\"Lat\"]\n",
    "y_values = north[\"Humidity\"]\n",
    "\n",
    "#Correlation \n",
    "correlation = st.pearsonr(x_values,y_values)\n",
    "\n",
    "#Regression \n",
    "(slope, intercept, rvalue, pvalue, stderr) = linregress(x_values, y_values)\n",
    "regress_values = x_values * slope + intercept\n",
    "line_eq = \"y = \" + str(round(slope,2)) + \"x + \" + str(round(intercept,2))\n",
    "\n",
    "plt.scatter(x_values, y_values)\n",
    "plt.plot(x_values,regress_values,\"r-\")\n",
    "plt.annotate(line_eq,(10,20),fontsize=10,color=\"red\")\n",
    "plt.title('North Hemisphere - Humidity vs Latitude')\n",
    "plt.xlabel('Latitude')\n",
    "plt.ylabel(\"Humidity\")\n",
    "\n",
    "plt.savefig(\"Images/NH_Humidity_vs_Lat.png\")\n",
    "plt.show()\n",
    "print(correlation)\n",
    "print('--------')\n",
    "print(f\"Looking at Nouthern Hemisphere-Humidity vs Latitude we see as latitude increases Humidity increases as well. Just as the Linear Regression line shows.\")"
   ]
  },
  {
   "cell_type": "markdown",
   "metadata": {},
   "source": [
    "####  Southern Hemisphere - Humidity (%) vs. Latitude Linear Regression"
   ]
  },
  {
   "cell_type": "code",
   "execution_count": 27,
   "metadata": {},
   "outputs": [
    {
     "data": {
      "image/png": "[encoded data removed]",
      "text/plain": [
       "<Figure size 432x288 with 1 Axes>"
      ]
     },
     "metadata": {
      "needs_background": "light"
     },
     "output_type": "display_data"
    },
    {
     "name": "stdout",
     "output_type": "stream",
     "text": [
      "(0.005329934683152109, 0.9364895843488512)\n",
      "--------\n",
      "Looking at Southern Hemisphere-Humidity vs Latitude we see Humidity stays relatively high even as latitude increase. Just as the Linear Regression line shows.\n"
     ]
    }
   ],
   "source": [
    "x_values = south[\"Lat\"]\n",
    "y_values = south[\"Humidity\"]\n",
    "\n",
    "#Correlation \n",
    "correlation = st.pearsonr(x_values,y_values)\n",
    "\n",
    "#Regression \n",
    "(slope, intercept, rvalue, pvalue, stderr) = linregress(x_values, y_values)\n",
    "regress_values = x_values * slope + intercept\n",
    "line_eq = \"y = \" + str(round(slope,2)) + \"x + \" + str(round(intercept,2))\n",
    "\n",
    "plt.scatter(x_values, y_values)\n",
    "plt.plot(x_values,regress_values,\"r-\")\n",
    "plt.annotate(line_eq,(10,20),fontsize=10,color=\"red\")\n",
    "plt.title('South Hemisphere - Humidity vs Latitude')\n",
    "plt.xlabel('Latitude')\n",
    "plt.ylabel(\"Humidity\")\n",
    "\n",
    "plt.savefig(\"Images/SH_Humidity_vs_Lat.png\")\n",
    "plt.show()\n",
    "print(correlation)\n",
    "print('--------')\n",
    "print(f\"Looking at Southern Hemisphere-Humidity vs Latitude we see Humidity stays relatively high even as latitude increase. Just as the Linear Regression line shows.\")"
   ]
  },
  {
   "cell_type": "markdown",
   "metadata": {},
   "source": [
    "####  Northern Hemisphere - Cloudiness (%) vs. Latitude Linear Regression"
   ]
  },
  {
   "cell_type": "code",
   "execution_count": 28,
   "metadata": {},
   "outputs": [
    {
     "data": {
      "image/png": "[encoded data removed]",
      "text/plain": [
       "<Figure size 432x288 with 1 Axes>"
      ]
     },
     "metadata": {
      "needs_background": "light"
     },
     "output_type": "display_data"
    },
    {
     "name": "stdout",
     "output_type": "stream",
     "text": [
      "(0.31065533992242034, 4.190412146964281e-10)\n",
      "--------\n",
      "Looking at Nouthern Hemisphere-Cloudiness vs Latitude we see that cloudiness increases as latitude increases. Just as the Linear Regression line shows. We also see there is a large cluster of cloudiness when the latitude is low. Just as the Linear Regression line shows.\n"
     ]
    }
   ],
   "source": [
    "x_values = north[\"Lat\"]\n",
    "y_values = north[\"Cloudiness\"]\n",
    "\n",
    "#Correlation \n",
    "correlation = st.pearsonr(x_values,y_values)\n",
    "\n",
    "#Regression \n",
    "(slope, intercept, rvalue, pvalue, stderr) = linregress(x_values, y_values)\n",
    "regress_values = x_values * slope + intercept\n",
    "line_eq = \"y = \" + str(round(slope,2)) + \"x + \" + str(round(intercept,2))\n",
    "\n",
    "plt.scatter(x_values, y_values)\n",
    "plt.plot(x_values,regress_values,\"r-\")\n",
    "plt.annotate(line_eq,(10,20),fontsize=10,color=\"red\")\n",
    "plt.title('North Hemisphere - Cloudiness vs Latitude')\n",
    "plt.xlabel('Latitude')\n",
    "plt.ylabel(\"Cloudiness\")\n",
    "\n",
    "plt.savefig(\"Images/NH_Cloudiness_vs_Lat.png\")\n",
    "plt.show()\n",
    "print(correlation)\n",
    "print('--------')\n",
    "print(f\"Looking at Nouthern Hemisphere-Cloudiness vs Latitude we see that cloudiness increases as latitude increases. Just as the Linear Regression line shows. We also see there is a large cluster of cloudiness when the latitude is low. Just as the Linear Regression line shows.\")"
   ]
  },
  {
   "cell_type": "markdown",
   "metadata": {},
   "source": [
    "####  Southern Hemisphere - Cloudiness (%) vs. Latitude Linear Regression"
   ]
  },
  {
   "cell_type": "code",
   "execution_count": 29,
   "metadata": {},
   "outputs": [
    {
     "data": {
      "image/png": "[encoded data removed]",
      "text/plain": [
       "<Figure size 432x288 with 1 Axes>"
      ]
     },
     "metadata": {
      "needs_background": "light"
     },
     "output_type": "display_data"
    },
    {
     "name": "stdout",
     "output_type": "stream",
     "text": [
      "(0.17450301970717474, 0.008563352516369156)\n",
      "--------\n",
      "Looking at Southern Hemisphere-Cloudiness vs Latitude we see that as latitude increases cloudiness increases as well. Just as the Linear Regression line shows.\n"
     ]
    }
   ],
   "source": [
    "x_values = south[\"Lat\"]\n",
    "y_values = south[\"Cloudiness\"]\n",
    "\n",
    "#Correlation \n",
    "correlation = st.pearsonr(x_values,y_values)\n",
    "\n",
    "#Regression \n",
    "(slope, intercept, rvalue, pvalue, stderr) = linregress(x_values, y_values)\n",
    "regress_values = x_values * slope + intercept\n",
    "line_eq = \"y = \" + str(round(slope,2)) + \"x + \" + str(round(intercept,2))\n",
    "\n",
    "plt.scatter(x_values, y_values)\n",
    "plt.plot(x_values,regress_values,\"r-\")\n",
    "plt.annotate(line_eq,(10,20),fontsize=10,color=\"red\")\n",
    "plt.title('South Hemisphere - Cloudiness vs Latitude')\n",
    "plt.xlabel('Latitude')\n",
    "plt.ylabel(\"Cloudiness\")\n",
    "\n",
    "plt.savefig(\"Images/SH_Cloudiness_vs_Lat.png\")\n",
    "plt.show()\n",
    "print(correlation)\n",
    "print('--------')\n",
    "print(f\"Looking at Southern Hemisphere-Cloudiness vs Latitude we see that as latitude increases cloudiness increases as well. Just as the Linear Regression line shows.\")"
   ]
  },
  {
   "cell_type": "markdown",
   "metadata": {},
   "source": [
    "####  Northern Hemisphere - Wind Speed (mph) vs. Latitude Linear Regression"
   ]
  },
  {
   "cell_type": "code",
   "execution_count": 30,
   "metadata": {},
   "outputs": [
    {
     "data": {
      "image/png": "[encoded data removed]",
      "text/plain": [
       "<Figure size 432x288 with 1 Axes>"
      ]
     },
     "metadata": {
      "needs_background": "light"
     },
     "output_type": "display_data"
    },
    {
     "name": "stdout",
     "output_type": "stream",
     "text": [
      "(0.23926776503817365, 1.925830307706067e-06)\n",
      "--------\n",
      "Looking at Nouthern Hemisphere-Wind Speed vs Latitude we see that wind speed stays relatively low even as latitude increases, but as latitude increase wind speed increases ever so slightly. Just as the Linear Regression line shows.\n"
     ]
    }
   ],
   "source": [
    "x_values = north[\"Lat\"]\n",
    "y_values = north[\"Wind Speed\"]\n",
    "\n",
    "#Correlation \n",
    "correlation = st.pearsonr(x_values,y_values)\n",
    "\n",
    "#Regression \n",
    "(slope, intercept, rvalue, pvalue, stderr) = linregress(x_values, y_values)\n",
    "regress_values = x_values * slope + intercept\n",
    "line_eq = \"y = \" + str(round(slope,2)) + \"x + \" + str(round(intercept,2))\n",
    "\n",
    "plt.scatter(x_values, y_values)\n",
    "plt.plot(x_values,regress_values,\"r-\")\n",
    "plt.annotate(line_eq,(10,20),fontsize=10,color=\"red\")\n",
    "plt.title('North Hemisphere - Wind Speed vs Latitude')\n",
    "plt.xlabel('Latitude')\n",
    "plt.ylabel(\"Wind Speed\")\n",
    "\n",
    "plt.savefig(\"Images/NH_WindSpeed_vs_Lat.png\")\n",
    "plt.show()\n",
    "print(correlation)\n",
    "print('--------')\n",
    "print(f\"Looking at Nouthern Hemisphere-Wind Speed vs Latitude we see that wind speed stays relatively low even as latitude increases, but as latitude increase wind speed increases ever so slightly. Just as the Linear Regression line shows.\")"
   ]
  },
  {
   "cell_type": "markdown",
   "metadata": {},
   "source": [
    "####  Southern Hemisphere - Wind Speed (mph) vs. Latitude Linear Regression"
   ]
  },
  {
   "cell_type": "code",
   "execution_count": 31,
   "metadata": {},
   "outputs": [
    {
     "data": {
      "image/png": "[encoded data removed]",
      "text/plain": [
       "<Figure size 432x288 with 1 Axes>"
      ]
     },
     "metadata": {
      "needs_background": "light"
     },
     "output_type": "display_data"
    },
    {
     "name": "stdout",
     "output_type": "stream",
     "text": [
      "(0.10753692685408422, 0.10688601225502543)\n",
      "--------\n",
      "Looking at Southern Hemisphere-Humidity vs Latitude we see at higher latitude wind speed increases but wind speed is relatively around the same range even as Latitude increase. Just as the Linear Regression line shows.\n"
     ]
    }
   ],
   "source": [
    "x_values = south[\"Lat\"]\n",
    "y_values = south[\"Wind Speed\"]\n",
    "\n",
    "#Correlation \n",
    "correlation = st.pearsonr(x_values,y_values)\n",
    "\n",
    "#Regression \n",
    "(slope, intercept, rvalue, pvalue, stderr) = linregress(x_values, y_values)\n",
    "regress_values = x_values * slope + intercept\n",
    "line_eq = \"y = \" + str(round(slope,2)) + \"x + \" + str(round(intercept,2))\n",
    "\n",
    "plt.scatter(x_values, y_values)\n",
    "plt.plot(x_values,regress_values,\"r-\")\n",
    "plt.annotate(line_eq,(10,20),fontsize=10,color=\"red\")\n",
    "plt.title('South Hemisphere - Wind Speed vs Latitude')\n",
    "plt.xlabel('Latitude')\n",
    "plt.ylabel(\"Wind Speed\")\n",
    "\n",
    "plt.savefig(\"Images/SH_WindSpeed_vs_Lat.png\")\n",
    "plt.show()\n",
    "print(correlation)\n",
    "print('--------')\n",
    "print(f\"Looking at Southern Hemisphere-Humidity vs Latitude we see at higher latitude wind speed increases but wind speed is relatively around the same range even as Latitude increase. Just as the Linear Regression line shows.\")"
   ]
  },
  {
   "cell_type": "code",
   "execution_count": null,
   "metadata": {},
   "outputs": [],
   "source": []
  },
  {
   "cell_type": "code",
   "execution_count": null,
   "metadata": {},
   "outputs": [],
   "source": []
  }
 ],
 "metadata": {
  "anaconda-cloud": {},
  "interpreter": {
   "hash": "6b24a5c7edbea8b0ce6ef47f62501b6413817b7d55a1059536e933855f6123df"
  },
  "kernel_info": {
   "name": "python3"
  },
  "kernelspec": {
   "display_name": "mypydev",
   "language": "python",
   "name": "python3"
  },
  "language_info": {
   "codemirror_mode": {
    "name": "ipython",
    "version": 3
   },
   "file_extension": ".py",
   "mimetype": "text/x-python",
   "name": "python",
   "nbconvert_exporter": "python",
   "pygments_lexer": "ipython3",
   "version": "3.9.7"
  },
  "latex_envs": {
   "LaTeX_envs_menu_present": true,
   "autoclose": false,
   "autocomplete": true,
   "bibliofile": "biblio.bib",
   "cite_by": "apalike",
   "current_citInitial": 1,
   "eqLabelWithNumbers": true,
   "eqNumInitial": 1,
   "hotkeys": {
    "equation": "Ctrl-E",
    "itemize": "Ctrl-I"
   },
   "labels_anchors": false,
   "latex_user_defs": false,
   "report_style_numbering": false,
   "user_envs_cfg": false
  },
  "nteract": {
   "version": "0.12.3"
  }
 },
 "nbformat": 4,
 "nbformat_minor": 2
}
